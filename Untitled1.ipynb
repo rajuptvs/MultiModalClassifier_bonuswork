{
 "cells": [
  {
   "cell_type": "code",
   "execution_count": null,
   "id": "0b6d8722-ae03-4ffa-bbc9-ef3c49565ac7",
   "metadata": {},
   "outputs": [],
   "source": []
  }
 ],
 "metadata": {
  "kernelspec": {
   "display_name": "pyenv",
   "language": "python",
   "name": "pyenv"
  },
  "language_info": {
   "codemirror_mode": {
    "name": "ipython",
    "version": 3
   },
   "file_extension": ".py",
   "mimetype": "text/x-python",
   "name": "python",
   "nbconvert_exporter": "python",
   "pygments_lexer": "ipython3",
   "version": "3.10.4"
  }
 },
 "nbformat": 4,
 "nbformat_minor": 5
}
